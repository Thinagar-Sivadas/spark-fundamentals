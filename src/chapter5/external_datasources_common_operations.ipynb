{
 "cells": [
  {
   "cell_type": "code",
   "execution_count": null,
   "id": "0e057801-e388-4e65-894c-6a5e03c8bab7",
   "metadata": {},
   "outputs": [],
   "source": [
    "import psycopg2\n",
    "from pyspark.sql import SparkSession, Window\n",
    "import pyspark.sql.functions as F"
   ]
  },
  {
   "cell_type": "code",
   "execution_count": null,
   "id": "bff25804-d1de-4b34-9976-1158eeb6c703",
   "metadata": {},
   "outputs": [],
   "source": [
    "spark = SparkSession.builder.appName(\"external_datasources_common_operations\")\\\n",
    ".config(\"spark.jars\", \"/opt/bitnami/spark/connectors/jars/postgresql-42.6.0.jar\") \\\n",
    ".config(\"spark.driver.extraClassPath\", \"/opt/bitnami/spark/connectors/jars/postgresql-42.6.0.jar\").getOrCreate()"
   ]
  },
  {
   "cell_type": "markdown",
   "id": "724e12f7-d8c3-4595-ba72-3a72c6812f11",
   "metadata": {},
   "source": [
    "# Drop tables postgres"
   ]
  },
  {
   "cell_type": "code",
   "execution_count": null,
   "id": "2ce395aa-60c1-473d-a959-ff6a6ca26fe2",
   "metadata": {},
   "outputs": [],
   "source": [
    "table_names = ['airport', 'delay']\n",
    "connection_params = {\n",
    "    \"host\": \"host.docker.internal\",\n",
    "    \"port\": 5432,\n",
    "    \"database\": \"postgres\",\n",
    "    \"user\": \"postgres\",\n",
    "    \"password\": \"postgres\",\n",
    "}\n",
    "with psycopg2.connect(**connection_params) as conn, conn.cursor() as cursor:\n",
    "    for table in table_names:\n",
    "        sql_query = f\"DROP TABLE IF EXISTS {table}\"\n",
    "        cursor.execute(sql_query)"
   ]
  },
  {
   "cell_type": "markdown",
   "id": "6b895407-94e3-472f-a5be-33d001e1ea7c",
   "metadata": {},
   "source": [
    "# Create tables postgres"
   ]
  },
  {
   "cell_type": "code",
   "execution_count": null,
   "id": "395d1a5b-4bb4-409d-9a89-d24794e58290",
   "metadata": {},
   "outputs": [],
   "source": [
    "connection_params = {\n",
    "    \"host\": \"host.docker.internal\",\n",
    "    \"port\": 5432,\n",
    "    \"database\": \"postgres\",\n",
    "    \"user\": \"postgres\",\n",
    "    \"password\": \"postgres\",\n",
    "}\n",
    "with psycopg2.connect(**connection_params) as conn, conn.cursor() as cursor:\n",
    "    cursor.execute(\"\"\"CREATE TABLE airport (\n",
    "                        \"City\" TEXT,\n",
    "                        \"State\" TEXT,\n",
    "                        \"Country\" TEXT,\n",
    "                        \"IATA\" TEXT\n",
    "                        )\"\"\")\n",
    "    cursor.execute(\"\"\"CREATE TABLE delay (\n",
    "                        date TEXT,\n",
    "                        delay INT,\n",
    "                        distance INT,\n",
    "                        origin TEXT,\n",
    "                        destination TEXT\n",
    "                        )\"\"\")"
   ]
  },
  {
   "cell_type": "markdown",
   "id": "9461897e-998a-4968-9620-704ee99e1b90",
   "metadata": {},
   "source": [
    "# Load data postgres"
   ]
  },
  {
   "cell_type": "code",
   "execution_count": null,
   "id": "5beae36d-da8b-4a2e-84ca-3d6136a617fe",
   "metadata": {},
   "outputs": [],
   "source": [
    "airport = spark.read.format('csv').option('header', 'true').option(\"inferSchema\", \"true\").option('sep','\\t').load(\"/opt/bitnami/spark/custom_data/chapter5/airport-codes-na.txt\")\n",
    "delay = spark.read.format('csv').option('header', 'true').option(\"inferSchema\", \"true\").load(\"/opt/bitnami/spark/custom_data/chapter5/departuredelays.csv\")\n",
    "\n",
    "airport.write.format(\"jdbc\")\\\n",
    ".option('url', 'jdbc:postgresql://host.docker.internal:5432/postgres')\\\n",
    ".option('dbtable', \"airport\")\\\n",
    ".option('user', 'postgres')\\\n",
    ".option('password', 'postgres')\\\n",
    ".mode('append').save()\n",
    "\n",
    "delay.write.format(\"jdbc\")\\\n",
    ".option('url', 'jdbc:postgresql://host.docker.internal:5432/postgres')\\\n",
    ".option('dbtable', \"delay\")\\\n",
    ".option('user', 'postgres')\\\n",
    ".option('password', 'postgres')\\\n",
    ".mode('append').save()"
   ]
  },
  {
   "cell_type": "markdown",
   "id": "3394f18b-db39-4efe-8566-0d8abcde49c6",
   "metadata": {},
   "source": [
    "# Read data postgres"
   ]
  },
  {
   "cell_type": "code",
   "execution_count": null,
   "id": "e51619cf-94c4-446b-a938-05d7592e238e",
   "metadata": {},
   "outputs": [],
   "source": [
    "airport = spark.read.format(\"jdbc\")\\\n",
    ".option('url', 'jdbc:postgresql://host.docker.internal:5432/postgres')\\\n",
    ".option('dbtable', \"airport\")\\\n",
    ".option('user', 'postgres')\\\n",
    ".option('password', 'postgres')\\\n",
    ".load()\n",
    "\n",
    "delay = spark.read.format(\"jdbc\")\\\n",
    ".option('url', 'jdbc:postgresql://host.docker.internal:5432/postgres')\\\n",
    ".option('dbtable', \"delay\")\\\n",
    ".option('user', 'postgres')\\\n",
    ".option('password', 'postgres')\\\n",
    ".load()\n",
    "\n",
    "# .option('numPartitions', 10)  # Performs query in parallel, start with multiple of the number of spark workers.\n",
    "# This option can work alone without the below options. The jdbc will determine the partitions automatically. \n",
    "# .option('partitionColumn', 'your_partition_column')  # Specify the column to partition on\n",
    "# .option('lowerBound', 1)  # Specify the lower bound value for the partitioning\n",
    "# .option('upperBound', 100)  # Specify the upper bound value for the partitioning\n",
    "# .option('query', \"SELECT * FROM delay limit 10\") # To perform custom sql to extract data"
   ]
  },
  {
   "cell_type": "markdown",
   "id": "314aae21-af4d-4a7a-bd8a-afb8abb9a180",
   "metadata": {},
   "source": [
    "# Common operations"
   ]
  },
  {
   "cell_type": "code",
   "execution_count": null,
   "id": "3016e6cc-51f9-48b0-b6a6-c7c2c8a8ba3a",
   "metadata": {},
   "outputs": [],
   "source": [
    "airport.createOrReplaceTempView(\"airports\")\n",
    "delay.createOrReplaceTempView(\"departureDelays\")"
   ]
  },
  {
   "cell_type": "code",
   "execution_count": null,
   "id": "edeeec1c-0071-47ac-8a45-77f4d65a1a60",
   "metadata": {},
   "outputs": [],
   "source": [
    "foo = delay.filter(F.expr(\"\"\"origin=='SEA' and destination=='SFO' and delay>0 and date like '1220%'\"\"\"))\n",
    "foo.createOrReplaceTempView(\"foo\")"
   ]
  },
  {
   "cell_type": "markdown",
   "id": "5735bb92-5bfc-4725-a7b8-63eae33d9eb0",
   "metadata": {},
   "source": [
    "## Union"
   ]
  },
  {
   "cell_type": "code",
   "execution_count": null,
   "id": "f9ad4a7b-e5f3-42d3-b18e-a4b759796274",
   "metadata": {},
   "outputs": [],
   "source": [
    "bar = delay.union(foo)\n",
    "bar.filter(F.expr(\"\"\"origin=='SEA' and destination=='SFO' and delay>0 and date like '1220%'\"\"\")).show()"
   ]
  },
  {
   "cell_type": "markdown",
   "id": "9d211a4a-2b42-4fd2-861b-dab597df2986",
   "metadata": {},
   "source": [
    "## Joins"
   ]
  },
  {
   "cell_type": "code",
   "execution_count": null,
   "id": "f8e79c12-b90e-494c-8485-0e7854a25a0c",
   "metadata": {},
   "outputs": [],
   "source": [
    "foo.join(airport, airport.IATA==foo.origin).select('City', 'State', 'date', 'distance', 'destination').show()"
   ]
  },
  {
   "cell_type": "markdown",
   "id": "3220c753-3266-47b0-95d6-18a75949116b",
   "metadata": {},
   "source": [
    "## Windowing"
   ]
  },
  {
   "cell_type": "code",
   "execution_count": null,
   "id": "1c4d7c76-8351-436e-8c6a-c7a2cf912f2b",
   "metadata": {},
   "outputs": [],
   "source": [
    "w = Window.partitionBy('origin').orderBy(F.desc('delay'))\n",
    "delay.withColumn('ranking', F.dense_rank().over(w)).show()"
   ]
  },
  {
   "cell_type": "markdown",
   "id": "eb268e50-4c2d-4fda-b80e-0cd9ab7c1552",
   "metadata": {},
   "source": [
    "## Pivoting"
   ]
  },
  {
   "cell_type": "code",
   "execution_count": null,
   "id": "a06e9f41-d5c6-432d-96e4-eefb6437f541",
   "metadata": {},
   "outputs": [],
   "source": [
    "delay_pivot = delay.withColumn('month', F.expr(\"CAST(SUBSTRING(date,0,1) as int)\")).filter(F.expr(\"origin='SEA'\")).select(\"destination\", \"month\", \"delay\")\n",
    "delay_pivot.groupBy(\"destination\").pivot('month').sum('delay').show()"
   ]
  },
  {
   "cell_type": "code",
   "execution_count": null,
   "id": "9558842c-1686-4f95-a171-8194edb907df",
   "metadata": {},
   "outputs": [],
   "source": [
    "spark.stop()"
   ]
  }
 ],
 "metadata": {
  "kernelspec": {
   "display_name": "Python 3 (ipykernel)",
   "language": "python",
   "name": "python3"
  },
  "language_info": {
   "codemirror_mode": {
    "name": "ipython",
    "version": 3
   },
   "file_extension": ".py",
   "mimetype": "text/x-python",
   "name": "python",
   "nbconvert_exporter": "python",
   "pygments_lexer": "ipython3",
   "version": "3.9.17"
  }
 },
 "nbformat": 4,
 "nbformat_minor": 5
}
