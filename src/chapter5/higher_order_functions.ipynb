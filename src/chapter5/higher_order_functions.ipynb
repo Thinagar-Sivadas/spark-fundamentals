{
 "cells": [
  {
   "cell_type": "code",
   "execution_count": null,
   "id": "0856aedb-cce5-47d2-a22d-be2f7b5ca650",
   "metadata": {},
   "outputs": [],
   "source": [
    "from pyspark.sql import SparkSession\n",
    "from pyspark.sql.types import StructField, StructType, IntegerType, ArrayType"
   ]
  },
  {
   "cell_type": "code",
   "execution_count": null,
   "id": "d7d9a377-5116-46dc-9572-e9152a7e5887",
   "metadata": {},
   "outputs": [],
   "source": [
    "spark = SparkSession.builder.appName('higher_order_functions').getOrCreate()"
   ]
  },
  {
   "cell_type": "markdown",
   "id": "1eeed07b-eefb-4895-acd2-67d7cd74072e",
   "metadata": {},
   "source": [
    "# Create DataFrame "
   ]
  },
  {
   "cell_type": "code",
   "execution_count": null,
   "id": "93b8a7c7-ba3e-4b89-ace1-4596531bcb2e",
   "metadata": {},
   "outputs": [],
   "source": [
    "schema = StructType([StructField(\"celsius\", ArrayType(IntegerType()))])\n",
    "t_list = [[35, 36, 32, 30]], [[31,32,34,55,56]]\n",
    "t_c = spark.createDataFrame(t_list, schema)\n",
    "t_c.show()\n",
    "t_c.createOrReplaceTempView('tC')"
   ]
  },
  {
   "cell_type": "markdown",
   "id": "72cdc0df-a04b-4634-bfd0-7636647fde2e",
   "metadata": {},
   "source": [
    "# Transform "
   ]
  },
  {
   "cell_type": "code",
   "execution_count": null,
   "id": "8dade79c-c4f8-459c-bdeb-f59a0e0bcea4",
   "metadata": {},
   "outputs": [],
   "source": [
    "spark.sql(\"select celsius, transform(celsius, t-> (t*9) div 5 + 32) as farenheit from tC\").show()"
   ]
  },
  {
   "cell_type": "markdown",
   "id": "69e18e24-3bf0-41ab-b9c6-9e43cb7907d6",
   "metadata": {},
   "source": [
    "# Filter"
   ]
  },
  {
   "cell_type": "code",
   "execution_count": null,
   "id": "91e9fc94-56e2-44f3-897f-48854f8939d7",
   "metadata": {},
   "outputs": [],
   "source": [
    "spark.sql(\"select celsius, filter(celsius, t -> t>38) as high from tC\").show()"
   ]
  },
  {
   "cell_type": "markdown",
   "id": "a7bc44bd-ad9f-47fc-8a57-d75303a29bc6",
   "metadata": {},
   "source": [
    "# Exists"
   ]
  },
  {
   "cell_type": "code",
   "execution_count": null,
   "id": "fd606d34-43ce-469e-8036-7031c16aae2d",
   "metadata": {},
   "outputs": [],
   "source": [
    "spark.sql(\"select celsius, exists(celsius, t -> t=35) as threshold from tC\").show()"
   ]
  },
  {
   "cell_type": "markdown",
   "id": "cba1b891-3bd0-4376-9bd9-0bb1bff8b88b",
   "metadata": {},
   "source": [
    "# Reduce"
   ]
  },
  {
   "cell_type": "code",
   "execution_count": null,
   "id": "dc879f83-7df4-4464-a25e-d3f32de19101",
   "metadata": {},
   "outputs": [],
   "source": [
    "spark.sql(\"\"\"select celsius,\n",
    "reduce(celsius,\n",
    "        0, \n",
    "        (t, acc) -> t+acc,\n",
    "        acc -> (acc div size(celsius)) * 4\n",
    "    ) as avgFarenheit\n",
    "from tC\"\"\").show()"
   ]
  },
  {
   "cell_type": "code",
   "execution_count": null,
   "id": "5e47b918-6cbb-41d5-b7f7-273bdb785e63",
   "metadata": {},
   "outputs": [],
   "source": [
    "spark.stop()"
   ]
  }
 ],
 "metadata": {
  "kernelspec": {
   "display_name": "Python 3 (ipykernel)",
   "language": "python",
   "name": "python3"
  },
  "language_info": {
   "codemirror_mode": {
    "name": "ipython",
    "version": 3
   },
   "file_extension": ".py",
   "mimetype": "text/x-python",
   "name": "python",
   "nbconvert_exporter": "python",
   "pygments_lexer": "ipython3",
   "version": "3.9.17"
  }
 },
 "nbformat": 4,
 "nbformat_minor": 5
}
