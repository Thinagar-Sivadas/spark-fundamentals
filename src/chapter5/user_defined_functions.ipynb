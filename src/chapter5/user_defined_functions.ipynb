{
 "cells": [
  {
   "cell_type": "code",
   "execution_count": null,
   "id": "0856aedb-cce5-47d2-a22d-be2f7b5ca650",
   "metadata": {},
   "outputs": [],
   "source": [
    "from pyspark.sql import SparkSession\n",
    "from pyspark.sql.types import LongType\n",
    "import pandas as pd\n",
    "from pyspark.sql.functions import col, pandas_udf"
   ]
  },
  {
   "cell_type": "code",
   "execution_count": null,
   "id": "d7d9a377-5116-46dc-9572-e9152a7e5887",
   "metadata": {},
   "outputs": [],
   "source": [
    "spark = SparkSession.builder.appName('user_defined_functions').getOrCreate()"
   ]
  },
  {
   "cell_type": "markdown",
   "id": "56473be7-082c-48b2-b2f8-9e0c3caa200a",
   "metadata": {},
   "source": [
    "# Create function (Default Spark UDF)"
   ]
  },
  {
   "cell_type": "code",
   "execution_count": null,
   "id": "c3f97479-a168-4ca0-b8e2-e1c592f9c857",
   "metadata": {},
   "outputs": [],
   "source": [
    "def cubed(s):\n",
    "    return s*s*s"
   ]
  },
  {
   "cell_type": "code",
   "execution_count": null,
   "id": "6947b222-87b9-41ae-9dbf-aabb8532b354",
   "metadata": {},
   "outputs": [],
   "source": [
    "spark.udf.register('cubed', cubed, LongType())"
   ]
  },
  {
   "cell_type": "markdown",
   "id": "cedce39d-14a9-4af5-91c4-986dc05df1e7",
   "metadata": {},
   "source": [
    "# Test function "
   ]
  },
  {
   "cell_type": "code",
   "execution_count": null,
   "id": "d908c679-5f95-4ecd-b5da-d1e85421bfc0",
   "metadata": {},
   "outputs": [],
   "source": [
    "spark.range(1,9).createOrReplaceTempView(\"udf_test\")"
   ]
  },
  {
   "cell_type": "code",
   "execution_count": null,
   "id": "93b0f747-91c2-4cd2-8ffc-a851262d0e7c",
   "metadata": {},
   "outputs": [],
   "source": [
    "spark.sql(\"\"\"SELECT id, cubed(id) as id_cubed from udf_test\"\"\").show()"
   ]
  },
  {
   "cell_type": "markdown",
   "id": "331ffebf-414d-4ffd-a662-1318364bb56c",
   "metadata": {},
   "source": [
    "# Create Function (Pandas UDF) \n",
    "Recommended as its optimised for scale"
   ]
  },
  {
   "cell_type": "code",
   "execution_count": null,
   "id": "211a22bd-c0ae-4e8f-b764-33aea1f81543",
   "metadata": {},
   "outputs": [],
   "source": [
    "def cubed(a: pd.Series) -> pd.Series:\n",
    "    return a*a*a"
   ]
  },
  {
   "cell_type": "code",
   "execution_count": null,
   "id": "91576acd-c4d7-4972-b30a-d8e7975a7cb3",
   "metadata": {},
   "outputs": [],
   "source": [
    "cubed_udf = pandas_udf(cubed, returnType=LongType()) "
   ]
  },
  {
   "cell_type": "code",
   "execution_count": null,
   "id": "d5d69f56-9af9-4b15-beaf-f59a0f74f187",
   "metadata": {},
   "outputs": [],
   "source": [
    "x = pd.Series([1,2,3])\n",
    "print(cubed(x))"
   ]
  },
  {
   "cell_type": "code",
   "execution_count": null,
   "id": "76533bba-8bdb-4436-9dd9-7ac17cade48e",
   "metadata": {},
   "outputs": [],
   "source": [
    "df = spark.range(1,4)\n",
    "df.select('id', cubed_udf(col('id'))).show()"
   ]
  },
  {
   "cell_type": "code",
   "execution_count": null,
   "id": "5e47b918-6cbb-41d5-b7f7-273bdb785e63",
   "metadata": {},
   "outputs": [],
   "source": [
    "spark.stop()"
   ]
  }
 ],
 "metadata": {
  "kernelspec": {
   "display_name": "Python 3 (ipykernel)",
   "language": "python",
   "name": "python3"
  },
  "language_info": {
   "codemirror_mode": {
    "name": "ipython",
    "version": 3
   },
   "file_extension": ".py",
   "mimetype": "text/x-python",
   "name": "python",
   "nbconvert_exporter": "python",
   "pygments_lexer": "ipython3",
   "version": "3.9.17"
  }
 },
 "nbformat": 4,
 "nbformat_minor": 5
}
