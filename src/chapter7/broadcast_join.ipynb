{
 "cells": [
  {
   "cell_type": "code",
   "execution_count": null,
   "id": "d61443d6-2700-4b2e-b283-1a883b59776a",
   "metadata": {},
   "outputs": [],
   "source": [
    "import pyspark.sql.functions as F\n",
    "from pyspark.sql import SparkSession"
   ]
  },
  {
   "cell_type": "code",
   "execution_count": null,
   "id": "b36cf516-a801-47af-8382-019c78778bec",
   "metadata": {},
   "outputs": [],
   "source": [
    "spark = SparkSession.builder.appName(\"broadcast_join\").getOrCreate()\n",
    "spark.conf.set(\"spark.sql.autoBroadcastJoinThreshold\", 10485760)"
   ]
  },
  {
   "cell_type": "code",
   "execution_count": null,
   "id": "03378377-86f3-4272-b880-dfbb5e03f1fa",
   "metadata": {},
   "outputs": [],
   "source": [
    "df_trans = spark.read.format(\"parquet\").load(\"/opt/bitnami/spark/custom_data/chapter7/transactions/\")\n",
    "df_cust = spark.read.format(\"parquet\").load(\"/opt/bitnami/spark/custom_data/chapter7/customers/\")"
   ]
  },
  {
   "cell_type": "code",
   "execution_count": null,
   "id": "f74c20f5-9428-4b3b-a707-7b570c5ba570",
   "metadata": {},
   "outputs": [],
   "source": [
    "df_txn_details = df_trans.join(F.broadcast(df_cust), on=\"cust_id\", how=\"inner\")\n",
    "print(df_txn_details.count())"
   ]
  },
  {
   "cell_type": "code",
   "execution_count": null,
   "id": "1c4db376-e468-4fac-83a9-52f802e6c1ec",
   "metadata": {},
   "outputs": [],
   "source": [
    "df_txn_details.explain()"
   ]
  },
  {
   "cell_type": "code",
   "execution_count": null,
   "id": "4b470ce0-3822-4776-aa70-f9f2ab4d52d4",
   "metadata": {},
   "outputs": [],
   "source": [
    "spark.stop()"
   ]
  }
 ],
 "metadata": {
  "kernelspec": {
   "display_name": "Python 3 (ipykernel)",
   "language": "python",
   "name": "python3"
  },
  "language_info": {
   "codemirror_mode": {
    "name": "ipython",
    "version": 3
   },
   "file_extension": ".py",
   "mimetype": "text/x-python",
   "name": "python",
   "nbconvert_exporter": "python",
   "pygments_lexer": "ipython3",
   "version": "3.9.17"
  }
 },
 "nbformat": 4,
 "nbformat_minor": 5
}
