{
 "cells": [
  {
   "cell_type": "code",
   "execution_count": null,
   "id": "526da146-e966-42f2-bf8d-693ea95289cf",
   "metadata": {},
   "outputs": [],
   "source": [
    "from pyspark.sql import SparkSession\n",
    "import pyspark.sql.functions as F"
   ]
  },
  {
   "cell_type": "code",
   "execution_count": null,
   "id": "594b0044-62b2-4932-8014-7952d5e6f74e",
   "metadata": {},
   "outputs": [],
   "source": [
    "spark = SparkSession.builder.appName(\"data_skew\").getOrCreate()\n",
    "spark.conf.set(\"spark.sql.adaptive.enabled\", \"false\")\n",
    "spark.conf.set(\"spark.sql.autoBroadcastJoinThreshold\", -1)"
   ]
  },
  {
   "cell_type": "markdown",
   "id": "f1abf1de-6ca8-43a7-85cd-27bf5eb57ca9",
   "metadata": {},
   "source": [
    "# Uniform dataset "
   ]
  },
  {
   "cell_type": "code",
   "execution_count": null,
   "id": "210be936-8ebc-495d-902b-8e1a475eb6e7",
   "metadata": {},
   "outputs": [],
   "source": [
    "df_uniform = spark.range(1000000)\n",
    "df_uniform.show(3, truncate=False)"
   ]
  },
  {
   "cell_type": "code",
   "execution_count": null,
   "id": "91a2e2b5-3037-4486-baf9-29f5293795b0",
   "metadata": {},
   "outputs": [],
   "source": [
    "(\n",
    "    df_uniform\n",
    "    .withColumn(\"partition\", F.spark_partition_id())\n",
    "    .groupBy(\"partition\")\n",
    "    .count()\n",
    "    .orderBy(\"partition\")\n",
    "    .show()\n",
    ")"
   ]
  },
  {
   "cell_type": "markdown",
   "id": "1d693485-36fc-4a82-b6dd-0fde4b1adf4b",
   "metadata": {},
   "source": [
    "# Skewed dataset "
   ]
  },
  {
   "cell_type": "code",
   "execution_count": null,
   "id": "2ee2d378-4988-411b-8b76-8719c6c501d6",
   "metadata": {},
   "outputs": [],
   "source": [
    "df0 = spark.range(0, 1000000).repartition(1)\n",
    "df1 = spark.range(0, 10).repartition(1)\n",
    "df2 = spark.range(0, 10).repartition(1)\n",
    "df_skew = df0.union(df1).union(df2)\n",
    "df_skew.show(3, truncate=False)"
   ]
  },
  {
   "cell_type": "code",
   "execution_count": null,
   "id": "aa0c3748-9e2a-4a6c-bf74-6af056582b8a",
   "metadata": {},
   "outputs": [],
   "source": [
    "(\n",
    "    df_skew\n",
    "    .withColumn(\"partition\", F.spark_partition_id())\n",
    "    .groupBy(\"partition\")\n",
    "    .count()\n",
    "    .orderBy(\"partition\")\n",
    "    .show()\n",
    ")"
   ]
  },
  {
   "cell_type": "markdown",
   "id": "92e3b06b-bf84-4026-8cfe-5c281504c1d4",
   "metadata": {},
   "source": [
    "# Skewed join dataset with join"
   ]
  },
  {
   "cell_type": "code",
   "execution_count": null,
   "id": "70581432-faf2-4cd2-9971-a553ea80d6e7",
   "metadata": {},
   "outputs": [],
   "source": [
    "df_transactions = spark.read.format('parquet').load(\"/opt/bitnami/spark/custom_data/chapter7/transactions/\")\n",
    "df_customers = spark.read.format('parquet').load(\"/opt/bitnami/spark/custom_data/chapter7/customers/\")"
   ]
  },
  {
   "cell_type": "code",
   "execution_count": null,
   "id": "2a43673c-41ee-40c1-9ee8-ec376f57c737",
   "metadata": {},
   "outputs": [],
   "source": [
    "(\n",
    "    df_transactions\n",
    "    .groupBy(\"cust_id\")\n",
    "    .agg(F.countDistinct(\"txn_id\").alias('ct'))\n",
    "    .orderBy(F.desc(\"ct\"))\n",
    "    .show(5, truncate=False)\n",
    ")"
   ]
  },
  {
   "cell_type": "code",
   "execution_count": null,
   "id": "08b4bab1-1487-432d-b3eb-dda7cf01a02f",
   "metadata": {},
   "outputs": [],
   "source": [
    "df_txn_details = (\n",
    "    df_transactions.join(\n",
    "        df_customers,\n",
    "        on=\"cust_id\",\n",
    "        how='inner'\n",
    "    )\n",
    ")"
   ]
  },
  {
   "cell_type": "code",
   "execution_count": null,
   "id": "20d7dba7-b059-4afa-a3ca-522305c53ba2",
   "metadata": {},
   "outputs": [],
   "source": [
    "df_txn_details.count()"
   ]
  },
  {
   "cell_type": "code",
   "execution_count": null,
   "id": "706c3630-f295-4d5e-ba08-195f2914631f",
   "metadata": {},
   "outputs": [],
   "source": [
    "spark.stop()"
   ]
  }
 ],
 "metadata": {
  "kernelspec": {
   "display_name": "Python 3 (ipykernel)",
   "language": "python",
   "name": "python3"
  },
  "language_info": {
   "codemirror_mode": {
    "name": "ipython",
    "version": 3
   },
   "file_extension": ".py",
   "mimetype": "text/x-python",
   "name": "python",
   "nbconvert_exporter": "python",
   "pygments_lexer": "ipython3",
   "version": "3.9.17"
  }
 },
 "nbformat": 4,
 "nbformat_minor": 5
}
