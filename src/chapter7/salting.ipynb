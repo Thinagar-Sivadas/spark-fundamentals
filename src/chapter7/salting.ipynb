{
 "cells": [
  {
   "cell_type": "code",
   "execution_count": null,
   "id": "757b6366-f4cd-47a5-b65c-4882757f6b47",
   "metadata": {},
   "outputs": [],
   "source": [
    "from pyspark.sql import SparkSession\n",
    "import pyspark.sql.functions as F\n",
    "from pyspark.sql.types import IntegerType"
   ]
  },
  {
   "cell_type": "code",
   "execution_count": null,
   "id": "0a2a8a52-d0e9-4506-809a-6dd8d6e4b764",
   "metadata": {},
   "outputs": [],
   "source": [
    "spark = SparkSession.builder.appName(\"salting\").getOrCreate()\n",
    "spark.conf.set(\"spark.sql.shuffle.partitions\", \"3\")\n",
    "spark.conf.set(\"spark.sql.adaptive.enabled\", \"false\")"
   ]
  },
  {
   "cell_type": "markdown",
   "id": "53e295aa-2b54-4efe-a83e-69e0caf9e656",
   "metadata": {},
   "source": [
    "# Uniform dataset"
   ]
  },
  {
   "cell_type": "code",
   "execution_count": null,
   "id": "26846e51-7ae3-41fd-89b5-4d027c7703f2",
   "metadata": {},
   "outputs": [],
   "source": [
    "df_uniform = spark.createDataFrame([i for i in range(1000000)], IntegerType())\n",
    "df_uniform.show(3, truncate=False)"
   ]
  },
  {
   "cell_type": "code",
   "execution_count": null,
   "id": "592d7f29-f459-4eaa-8cc2-505c8059ce10",
   "metadata": {},
   "outputs": [],
   "source": [
    "(\n",
    "    df_uniform\n",
    "    .withColumn(\"partition\", F.spark_partition_id())\n",
    "    .groupBy(\"partition\")\n",
    "    .count()\n",
    "    .orderBy(\"partition\")\n",
    "    .show()\n",
    ")"
   ]
  },
  {
   "cell_type": "markdown",
   "id": "33f90d31-00a4-49c4-94e5-9e0eabff440f",
   "metadata": {},
   "source": [
    "# Skewed dataset  "
   ]
  },
  {
   "cell_type": "code",
   "execution_count": null,
   "id": "51de9d0b-a9ad-4cf3-9db5-2a5951b4ab68",
   "metadata": {},
   "outputs": [],
   "source": [
    "df0 = spark.createDataFrame([0]*999990, IntegerType()).repartition(1)\n",
    "df1 = spark.createDataFrame([1]*15, IntegerType()).repartition(1)\n",
    "df2 = spark.createDataFrame([2]*10, IntegerType()).repartition(1)\n",
    "df3 = spark.createDataFrame([3]*5, IntegerType()).repartition(1)\n",
    "df_skew = df0.union(df1).union(df2).union(df3)\n",
    "df_skew.show(3, truncate=False)"
   ]
  },
  {
   "cell_type": "code",
   "execution_count": null,
   "id": "5a49235a-2c3c-4f31-9b5d-39f1f4e1c7f7",
   "metadata": {},
   "outputs": [],
   "source": [
    "(\n",
    "    df_skew\n",
    "    .withColumn(\"partition\", F.spark_partition_id())\n",
    "    .groupBy(\"partition\")\n",
    "    .count()\n",
    "    .orderBy(\"partition\")\n",
    "    .show()\n",
    ")"
   ]
  },
  {
   "cell_type": "markdown",
   "id": "566cfb74-dd9f-45f0-af4e-853629cd1792",
   "metadata": {},
   "source": [
    "# Skewed join dataset"
   ]
  },
  {
   "cell_type": "code",
   "execution_count": null,
   "id": "e92f8462-f451-4294-a9ab-6839089da5f9",
   "metadata": {},
   "outputs": [],
   "source": [
    "df_joined_c1 = df_skew.join(df_uniform,'value', 'inner')"
   ]
  },
  {
   "cell_type": "code",
   "execution_count": null,
   "id": "62b9d8e5-f674-472b-a3d2-116e49ec9d52",
   "metadata": {},
   "outputs": [],
   "source": [
    "(\n",
    "    df_joined_c1\n",
    "    .withColumn(\"partition\", F.spark_partition_id())\n",
    "    .groupBy(\"partition\")\n",
    "    .count()\n",
    "    .show()\n",
    ")"
   ]
  },
  {
   "cell_type": "markdown",
   "id": "107a30c9-7234-428d-a6e2-6b864d98ad6e",
   "metadata": {},
   "source": [
    "# Simulating uniform distribution through salting"
   ]
  },
  {
   "cell_type": "code",
   "execution_count": null,
   "id": "423a1e61-baaa-4b9b-a183-1d83c4c5bcfe",
   "metadata": {},
   "outputs": [],
   "source": [
    "SALT_NUMBER = int(spark.conf.get(\"spark.sql.shuffle.partitions\"))\n",
    "SALT_NUMBER"
   ]
  },
  {
   "cell_type": "code",
   "execution_count": null,
   "id": "9009e326-ec34-4bb4-9836-bde072a1e514",
   "metadata": {},
   "outputs": [],
   "source": [
    "df_skew = df_skew.withColumn(\"salt\", (F.rand()*SALT_NUMBER).cast(\"int\"))\n",
    "df_skew.show()"
   ]
  },
  {
   "cell_type": "code",
   "execution_count": null,
   "id": "3cb8a3e0-d42e-484a-b6fa-8ffa5704f310",
   "metadata": {},
   "outputs": [],
   "source": [
    "df_uniform = (\n",
    "    df_uniform\n",
    "    .withColumn(\"salt_values\", F.array([F.lit(i) for i in range(SALT_NUMBER)]))\n",
    "    .withColumn(\"salt\", F.explode(F.col(\"salt_values\")))\n",
    ")\n",
    "df_uniform.show()"
   ]
  },
  {
   "cell_type": "code",
   "execution_count": null,
   "id": "3ddffecc-7a25-4aa1-bd48-2fe7048bcdc5",
   "metadata": {},
   "outputs": [],
   "source": [
    "df_joined = df_skew.join(df_uniform,['value', 'salt'], 'inner')"
   ]
  },
  {
   "cell_type": "code",
   "execution_count": null,
   "id": "8b8778cd-3ed6-4753-918b-f3cbdf495a99",
   "metadata": {},
   "outputs": [],
   "source": [
    "(\n",
    "    df_joined\n",
    "    .withColumn(\"partition\", F.spark_partition_id())\n",
    "    .groupBy(\"value\",\"partition\")\n",
    "    .count()\n",
    "    .orderBy(\"value\",\"partition\")\n",
    "    .show()\n",
    ")"
   ]
  },
  {
   "cell_type": "markdown",
   "id": "e28d1206-0c78-4bf1-8498-fe5c554e84df",
   "metadata": {},
   "source": [
    "# Salting in aggregations"
   ]
  },
  {
   "cell_type": "code",
   "execution_count": null,
   "id": "eda81a3c-4cc6-4f4d-a9f7-47b572eae3bb",
   "metadata": {},
   "outputs": [],
   "source": [
    "(\n",
    "    df_skew\n",
    "    .groupBy(\"value\", \"salt\")\n",
    "    .agg(F.count(\"value\").alias(\"count\"))\n",
    "    .groupBy(\"value\")\n",
    "    .agg(F.sum(\"count\").alias(\"count\"))\n",
    "    .show()\n",
    ")"
   ]
  },
  {
   "cell_type": "code",
   "execution_count": null,
   "id": "b2e96ecb-4bfc-44a9-8a41-e2fdd0c9f214",
   "metadata": {},
   "outputs": [],
   "source": [
    "spark.stop()"
   ]
  }
 ],
 "metadata": {
  "kernelspec": {
   "display_name": "Python 3 (ipykernel)",
   "language": "python",
   "name": "python3"
  },
  "language_info": {
   "codemirror_mode": {
    "name": "ipython",
    "version": 3
   },
   "file_extension": ".py",
   "mimetype": "text/x-python",
   "name": "python",
   "nbconvert_exporter": "python",
   "pygments_lexer": "ipython3",
   "version": "3.9.17"
  }
 },
 "nbformat": 4,
 "nbformat_minor": 5
}
