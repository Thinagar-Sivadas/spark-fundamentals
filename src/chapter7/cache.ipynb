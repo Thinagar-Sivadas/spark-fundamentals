{
 "cells": [
  {
   "cell_type": "code",
   "execution_count": null,
   "id": "b54d8d19-239f-4475-b91b-5cde8786ed53",
   "metadata": {},
   "outputs": [],
   "source": [
    "from pyspark.sql import SparkSession\n",
    "from pyspark.sql.types import IntegerType, StringType, StructField, StructType\n",
    "import pyspark.sql.functions as F"
   ]
  },
  {
   "cell_type": "code",
   "execution_count": null,
   "id": "eedef915-9697-4f78-b787-4f5bc5232cc2",
   "metadata": {},
   "outputs": [],
   "source": [
    "spark = SparkSession.builder.appName(\"cache\").getOrCreate()"
   ]
  },
  {
   "cell_type": "code",
   "execution_count": null,
   "id": "594843ae-cec5-4d4a-845c-3d3058d44baf",
   "metadata": {},
   "outputs": [],
   "source": [
    "df_customers = (\n",
    "    spark.read.format(\"parquet\")\n",
    "    .option(\"header\", \"true\")\n",
    "    .load(\"/opt/bitnami/spark/custom_data/chapter7/customers/\")\n",
    ")\n",
    "\n",
    "df_customers.show()"
   ]
  },
  {
   "cell_type": "markdown",
   "id": "af921217-ce55-48b1-a275-61d4f6347c58",
   "metadata": {},
   "source": [
    "# Without cache"
   ]
  },
  {
   "cell_type": "code",
   "execution_count": null,
   "id": "c8cc7e43-e497-41a1-a8d7-bf6ea288859c",
   "metadata": {},
   "outputs": [],
   "source": [
    "df_base = (\n",
    "    df_customers\n",
    "    .filter(F.col('city')=='boston')\n",
    "    .withColumn(\n",
    "        \"customer_group\",\n",
    "        F.when(\n",
    "            F.col(\"age\").between(20,30),\n",
    "            F.lit(\"young\")\n",
    "        )\n",
    "        .when(\n",
    "            F.col(\"age\").between(31,50),\n",
    "            F.lit(\"mid\")\n",
    "        )\n",
    "        .when(\n",
    "            F.col(\"age\") > 51,\n",
    "            F.lit(\"old\")\n",
    "        )\n",
    "        .otherwise(F.lit('kid'))\n",
    "    )\n",
    "    .select(\"cust_id\", \"name\", \"age\", \"gender\", \"birthday\", \"zip\", \"city\", \"customer_group\")\n",
    "    \n",
    "      )\n",
    "\n",
    "df_base.show(5, truncate=False)"
   ]
  },
  {
   "cell_type": "code",
   "execution_count": null,
   "id": "cae14530-5339-4d6c-a484-789883ad572c",
   "metadata": {},
   "outputs": [],
   "source": [
    "df1 = (\n",
    "    df_base\n",
    "    .withColumn(\"test_column_1\", F.lit(\"test_column_1\"))\n",
    "    .withColumn(\"birth_year\", F.split(\"birthday\", \"/\").getItem(2))\n",
    "      )\n",
    "\n",
    "df1.explain()\n",
    "df1.show(5, truncate=False)"
   ]
  },
  {
   "cell_type": "code",
   "execution_count": null,
   "id": "b9192d8a-a2ad-4952-9ebd-d7a512225510",
   "metadata": {},
   "outputs": [],
   "source": [
    "df2 = (\n",
    "    df_base\n",
    "    .withColumn(\"test_column_2\", F.lit(\"test_column_2\"))\n",
    "    .withColumn(\"birth_month\", F.split(\"birthday\", \"/\").getItem(1))\n",
    "      )\n",
    "\n",
    "df2.explain()\n",
    "df2.show(5, truncate=False)"
   ]
  },
  {
   "cell_type": "markdown",
   "id": "10146c6a-63a3-4ded-a27c-ea7d373f8224",
   "metadata": {},
   "source": [
    "# Cache"
   ]
  },
  {
   "cell_type": "code",
   "execution_count": null,
   "id": "e06f6f37-9a9d-4a75-8927-a029aa3d8eac",
   "metadata": {},
   "outputs": [],
   "source": [
    "df_base.cache()"
   ]
  },
  {
   "cell_type": "code",
   "execution_count": null,
   "id": "4042f23c-3ba1-4371-ad2c-a266bd2ed7a2",
   "metadata": {},
   "outputs": [],
   "source": [
    "df1 = (\n",
    "    df_base\n",
    "    .withColumn(\"test_column_1\", F.lit(\"test_column_1\"))\n",
    "    .withColumn(\"birth_year\", F.split(\"birthday\", \"/\").getItem(2))\n",
    "      )\n",
    "\n",
    "df1.explain()\n",
    "df1.show(5, truncate=False)"
   ]
  },
  {
   "cell_type": "code",
   "execution_count": null,
   "id": "e2640931-1d69-4c75-8f60-acf73ff5ffd1",
   "metadata": {},
   "outputs": [],
   "source": [
    "df2 = (\n",
    "    df_base\n",
    "    .withColumn(\"test_column_2\", F.lit(\"test_column_2\"))\n",
    "    .withColumn(\"birth_month\", F.split(\"birthday\", \"/\").getItem(1))\n",
    "      )\n",
    "\n",
    "df2.explain()\n",
    "df2.show(5, truncate=False)"
   ]
  },
  {
   "cell_type": "code",
   "execution_count": null,
   "id": "16bfad12-fdce-45ae-8a79-4378501086d2",
   "metadata": {},
   "outputs": [],
   "source": [
    "spark.stop()"
   ]
  }
 ],
 "metadata": {
  "kernelspec": {
   "display_name": "Python 3 (ipykernel)",
   "language": "python",
   "name": "python3"
  },
  "language_info": {
   "codemirror_mode": {
    "name": "ipython",
    "version": 3
   },
   "file_extension": ".py",
   "mimetype": "text/x-python",
   "name": "python",
   "nbconvert_exporter": "python",
   "pygments_lexer": "ipython3",
   "version": "3.9.17"
  }
 },
 "nbformat": 4,
 "nbformat_minor": 5
}
