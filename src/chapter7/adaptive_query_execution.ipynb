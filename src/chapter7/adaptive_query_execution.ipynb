{
 "cells": [
  {
   "cell_type": "code",
   "execution_count": null,
   "id": "bcf1fdab-4c80-4fce-8fcc-bd86eabc7ee6",
   "metadata": {},
   "outputs": [],
   "source": [
    "from pyspark.sql import SparkSession\n",
    "import pyspark.sql.functions as F"
   ]
  },
  {
   "cell_type": "code",
   "execution_count": null,
   "id": "cad12a90-c518-4cce-887d-fa15f465051a",
   "metadata": {},
   "outputs": [],
   "source": [
    "spark = SparkSession.builder.appName(\"adaptive_query_execution\").getOrCreate()\n",
    "spark.conf.set(\"spark.sql.adaptive.enabled\", \"false\")\n",
    "spark.conf.set(\"spark.sql.autoBroadcastJoinThreshold\", -1)"
   ]
  },
  {
   "cell_type": "markdown",
   "id": "17593d48-f6a2-4fd2-bdcc-4e326baadbaf",
   "metadata": {},
   "source": [
    "# Join skew"
   ]
  },
  {
   "cell_type": "code",
   "execution_count": null,
   "id": "df9c863d-9351-4366-9ccd-654b6a3ede5d",
   "metadata": {},
   "outputs": [],
   "source": [
    "df_trans = spark.read.format(\"parquet\").load(\"/opt/bitnami/spark/custom_data/chapter7/transactions/\")\n",
    "df_cust = spark.read.format(\"parquet\").load(\"/opt/bitnami/spark/custom_data/chapter7/customers/\")"
   ]
  },
  {
   "cell_type": "code",
   "execution_count": null,
   "id": "d656c5a9-34e3-44ce-ad22-a1e0fd2db9df",
   "metadata": {},
   "outputs": [],
   "source": [
    "(\n",
    "        df_trans.groupBy(\"cust_id\")\n",
    "        .agg(F.countDistinct(\"txn_id\").alias(\"ct\"))\n",
    "        .orderBy(F.desc(\"ct\"))\n",
    "        .show(5, truncate=False)\n",
    "    )"
   ]
  },
  {
   "cell_type": "code",
   "execution_count": null,
   "id": "391fecc2-f138-406a-a52d-7809e6773316",
   "metadata": {},
   "outputs": [],
   "source": [
    "df_txn_details = df_trans.join(df_cust, on=\"cust_id\", how=\"inner\")"
   ]
  },
  {
   "cell_type": "code",
   "execution_count": null,
   "id": "cdfc5ca8-3766-4459-84fa-11bb16950bfb",
   "metadata": {},
   "outputs": [],
   "source": [
    "df_txn_details.count()"
   ]
  },
  {
   "cell_type": "markdown",
   "id": "8a31f487-6add-41b7-8903-d28353426a61",
   "metadata": {},
   "source": [
    "# Using AQE"
   ]
  },
  {
   "cell_type": "code",
   "execution_count": null,
   "id": "da2579f9-359e-4598-b086-918b00dac295",
   "metadata": {},
   "outputs": [],
   "source": [
    "spark.conf.set(\"spark.sql.adaptive.enabled\", \"true\")\n",
    "spark.conf.set(\"spark.sql.adaptive.skewdedJoin.enabled\", \"true\")"
   ]
  },
  {
   "cell_type": "code",
   "execution_count": null,
   "id": "a9402cb2-a0a4-479e-af50-1751b5d60a18",
   "metadata": {},
   "outputs": [],
   "source": [
    "df_txn_details = df_transactions.join(df_cust, on=\"cust_id\", how=\"inner\")"
   ]
  },
  {
   "cell_type": "code",
   "execution_count": null,
   "id": "41300bcb-9fcf-4907-98e5-ac99115f55f3",
   "metadata": {},
   "outputs": [],
   "source": [
    "df_txn_details.count()"
   ]
  },
  {
   "cell_type": "code",
   "execution_count": null,
   "id": "c77ac6b9-18c4-4525-b609-6f347d47a9f9",
   "metadata": {},
   "outputs": [],
   "source": [
    "spark.stop()"
   ]
  }
 ],
 "metadata": {
  "kernelspec": {
   "display_name": "Python 3 (ipykernel)",
   "language": "python",
   "name": "python3"
  },
  "language_info": {
   "codemirror_mode": {
    "name": "ipython",
    "version": 3
   },
   "file_extension": ".py",
   "mimetype": "text/x-python",
   "name": "python",
   "nbconvert_exporter": "python",
   "pygments_lexer": "ipython3",
   "version": "3.9.17"
  }
 },
 "nbformat": 4,
 "nbformat_minor": 5
}
