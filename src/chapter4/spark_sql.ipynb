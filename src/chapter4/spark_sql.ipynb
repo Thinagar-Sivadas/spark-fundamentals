{
 "cells": [
  {
   "cell_type": "code",
   "execution_count": null,
   "id": "a65bc810-c53d-42e8-abfb-d1bcd938bff9",
   "metadata": {},
   "outputs": [],
   "source": [
    "from pyspark.sql import SparkSession\n",
    "from pyspark.sql.types import StringType, StructField, StructType, IntegerType, BooleanType, FloatType"
   ]
  },
  {
   "cell_type": "code",
   "execution_count": null,
   "id": "a5dacbe7-0101-4eb4-bbb3-2862233fc7b1",
   "metadata": {},
   "outputs": [],
   "source": [
    "spark = SparkSession.builder.appName(\"spark_sql_app\").getOrCreate()"
   ]
  },
  {
   "cell_type": "markdown",
   "id": "67d5e68c-f5ab-43ea-b89b-c72ef098d0cd",
   "metadata": {},
   "source": [
    "# Read DataFrame"
   ]
  },
  {
   "cell_type": "code",
   "execution_count": null,
   "id": "4472a356-cbda-4fd3-be30-cb9939e1f191",
   "metadata": {},
   "outputs": [],
   "source": [
    "schema = StructType(\n",
    "        [\n",
    "            StructField(\"date\", StringType(), True),\n",
    "            StructField(\"delay\", IntegerType(), True),\n",
    "            StructField(\"distance\", IntegerType(), True),\n",
    "            StructField(\"origin\", StringType(), True),\n",
    "            StructField(\"destination\", StringType(), True),\n",
    "        ]\n",
    "    )\n",
    "\n",
    "df = spark.read.format(\"csv\").schema(schema).option(\"header\", \"true\").load(\"/opt/bitnami/spark/custom_data/chapter4/departuredelays.csv\")\n",
    "df.show()"
   ]
  },
  {
   "cell_type": "markdown",
   "id": "eab4dcf9-10da-4349-b819-abf3674f1cb5",
   "metadata": {},
   "source": [
    "# Create temporary view"
   ]
  },
  {
   "cell_type": "code",
   "execution_count": null,
   "id": "398de854-739a-471d-9048-d3dc4561436b",
   "metadata": {},
   "outputs": [],
   "source": [
    "spark.catalog.dropTempView(\"us_delay_flights_tbl\")\n",
    "df.createOrReplaceTempView(\"us_delay_flights_tbl\")"
   ]
  },
  {
   "cell_type": "markdown",
   "id": "dc882754-bed1-4b26-aaae-ba585dda40e4",
   "metadata": {},
   "source": [
    "# SQL Operations"
   ]
  },
  {
   "cell_type": "code",
   "execution_count": null,
   "id": "243a53df-e0c3-42a9-ba75-8d099eb14626",
   "metadata": {},
   "outputs": [],
   "source": [
    "spark.sql(\"\"\"\n",
    "SELECT distance, origin, destination\n",
    "FROM us_delay_flights_tbl WHERE distance > 1000\n",
    "ORDER BY distance DESC\n",
    "\"\"\").show(10)"
   ]
  },
  {
   "cell_type": "code",
   "execution_count": null,
   "id": "64182c71-e998-43f8-8284-af5a7de08454",
   "metadata": {},
   "outputs": [],
   "source": [
    "spark.sql(\"\"\"\n",
    "SELECT date, distance, origin, destination\n",
    "FROM us_delay_flights_tbl WHERE delay > 120 AND\n",
    "origin = 'SFO' and destination='ORD' \n",
    "ORDER BY delay DESC\n",
    "\"\"\").show(10)"
   ]
  },
  {
   "cell_type": "code",
   "execution_count": null,
   "id": "c41b6586-d0dd-497d-aa28-9c50f354ac7a",
   "metadata": {},
   "outputs": [],
   "source": [
    "spark.sql(\"\"\"\n",
    "SELECT delay, origin, destination,\n",
    "CASE\n",
    "    WHEN delay>360 THEN 'Very Long Delays'\n",
    "    WHEN delay>=120 and delay<=360 THEN 'Long Delays'\n",
    "    WHEN delay>=60 and delay <120 THEN 'Short Delays'\n",
    "    WHEN delay>0 and delay<60 THEN  'Tolerable Delays'\n",
    "    WHEN delay=0 THEN 'No Delays'\n",
    "END as Flight_Delays\n",
    "FROM us_delay_flights_tbl\n",
    "ORDER BY origin, delay DESC\n",
    "\"\"\").show(10)"
   ]
  },
  {
   "cell_type": "markdown",
   "id": "a64e13df-9e47-4e30-9180-6a074b482caa",
   "metadata": {},
   "source": [
    "# SQL databases and tables "
   ]
  },
  {
   "cell_type": "code",
   "execution_count": null,
   "id": "5ec7aa59-ed3a-4e3e-bc5c-df95dfe32c1c",
   "metadata": {},
   "outputs": [],
   "source": [
    "spark.sql(\"\"\"CREATE DATABASE IF NOT EXISTS learn_spark_db\"\"\")\n",
    "spark.sql(\"\"\"use learn_spark_db\"\"\")"
   ]
  },
  {
   "cell_type": "markdown",
   "id": "cafd37c7-5fff-4beb-8d6e-ec096c7dbcad",
   "metadata": {},
   "source": [
    "## Managed table"
   ]
  },
  {
   "cell_type": "code",
   "execution_count": null,
   "id": "be59724c-0c3a-430f-8b29-b35d49891982",
   "metadata": {},
   "outputs": [],
   "source": [
    "spark.sql(\"\"\"DROP TABLE IF EXISTS managed_us_delay_flights_tbl\"\"\")\n",
    "df.write.mode('overwrite').saveAsTable(\"managed_us_delay_flights_tbl\")"
   ]
  },
  {
   "cell_type": "markdown",
   "id": "4f0df47b-784d-4692-b2b6-fcbcffa9c546",
   "metadata": {},
   "source": [
    "## Unmanaged table"
   ]
  },
  {
   "cell_type": "code",
   "execution_count": null,
   "id": "69a633d8-6643-4357-b65e-9598dfe8874e",
   "metadata": {},
   "outputs": [],
   "source": [
    "spark.sql(\"\"\"DROP TABLE IF EXISTS unmanaged_us_delay_flights_tbl\"\"\")\n",
    "df.write.option(\"path\", \"/opt/bitnami/spark/custom_data/chapter4/output/\").mode('overwrite').saveAsTable(\"unmanaged_us_delay_flights_tbl\")"
   ]
  },
  {
   "cell_type": "markdown",
   "id": "5fd4d163-5309-40c1-b41b-3c65a2cbf02b",
   "metadata": {},
   "source": [
    "## View metadata"
   ]
  },
  {
   "cell_type": "code",
   "execution_count": null,
   "id": "67f53e0d-bebc-40a7-8ac2-f40b67414a17",
   "metadata": {},
   "outputs": [],
   "source": [
    "spark.catalog.listDatabases()"
   ]
  },
  {
   "cell_type": "code",
   "execution_count": null,
   "id": "e7f6a358-6931-4111-b927-b1f817924f85",
   "metadata": {},
   "outputs": [],
   "source": [
    "spark.catalog.listTables()"
   ]
  },
  {
   "cell_type": "code",
   "execution_count": null,
   "id": "a041361c-9aad-47c8-a0d3-313a7b709b82",
   "metadata": {},
   "outputs": [],
   "source": [
    "spark.catalog.listColumns(\"unmanaged_us_delay_flights_tbl\")"
   ]
  },
  {
   "cell_type": "code",
   "execution_count": null,
   "id": "348e51fc-b4ae-416e-b048-0e1ac85c8828",
   "metadata": {},
   "outputs": [],
   "source": [
    "df_table = spark.table(\"us_delay_flights_tbl\")\n",
    "df_table.printSchema()"
   ]
  },
  {
   "cell_type": "code",
   "execution_count": null,
   "id": "cb9ec290-6e1f-41ac-9acf-f6cbe51f663a",
   "metadata": {},
   "outputs": [],
   "source": [
    "spark.stop()"
   ]
  }
 ],
 "metadata": {
  "kernelspec": {
   "display_name": "Python 3 (ipykernel)",
   "language": "python",
   "name": "python3"
  },
  "language_info": {
   "codemirror_mode": {
    "name": "ipython",
    "version": 3
   },
   "file_extension": ".py",
   "mimetype": "text/x-python",
   "name": "python",
   "nbconvert_exporter": "python",
   "pygments_lexer": "ipython3",
   "version": "3.9.17"
  }
 },
 "nbformat": 4,
 "nbformat_minor": 5
}
