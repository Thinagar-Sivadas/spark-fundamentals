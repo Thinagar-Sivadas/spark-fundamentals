{
 "cells": [
  {
   "cell_type": "code",
   "execution_count": null,
   "id": "a65bc810-c53d-42e8-abfb-d1bcd938bff9",
   "metadata": {},
   "outputs": [],
   "source": [
    "from pyspark.sql import SparkSession\n",
    "from pyspark.sql.functions import avg"
   ]
  },
  {
   "cell_type": "code",
   "execution_count": null,
   "id": "a5dacbe7-0101-4eb4-bbb3-2862233fc7b1",
   "metadata": {},
   "outputs": [],
   "source": [
    "spark = SparkSession.builder.appName(\"dataframe_vs_rdd_api\").getOrCreate()"
   ]
  },
  {
   "cell_type": "markdown",
   "id": "10507cd7-a287-437c-bfe7-ac0d4713e83b",
   "metadata": {},
   "source": [
    "# Low-Level RDD API"
   ]
  },
  {
   "cell_type": "code",
   "execution_count": null,
   "id": "88936ce0-6266-4c46-8394-554e6f814ee7",
   "metadata": {},
   "outputs": [],
   "source": [
    "dataRDD = spark.sparkContext.parallelize(\n",
    "    [\n",
    "    ('Brooke', 20),\n",
    "    ('Denny', 31),\n",
    "    ('Jules', 30),\n",
    "    ('TD', 35),\n",
    "    ('Brooke', 25)\n",
    "    ]\n",
    ")"
   ]
  },
  {
   "cell_type": "code",
   "execution_count": null,
   "id": "9d140aa5-182b-4cdb-953a-6e8e8580469a",
   "metadata": {},
   "outputs": [],
   "source": [
    "dataRDD.collect()"
   ]
  },
  {
   "cell_type": "code",
   "execution_count": null,
   "id": "c92ad426-a8a8-4f82-a6f6-ed9679b39e36",
   "metadata": {},
   "outputs": [],
   "source": [
    "agesRDD = (\n",
    "    dataRDD\n",
    "    .map(lambda x: (x[0], (x[1], 1)))\n",
    "    .reduceByKey(lambda x,y: (x[0]+y[0], x[1]+y[1]))\n",
    "    .map(lambda x: (x[0], x[1][0]/x[1][1]))\n",
    ")"
   ]
  },
  {
   "cell_type": "code",
   "execution_count": null,
   "id": "d13fa4f9-3adf-4bfe-ad55-0118c2f052df",
   "metadata": {},
   "outputs": [],
   "source": [
    "agesRDD.collect()"
   ]
  },
  {
   "cell_type": "markdown",
   "id": "6bae4346-f575-44f1-a90f-71378e86ba34",
   "metadata": {},
   "source": [
    "# DataFrame API"
   ]
  },
  {
   "cell_type": "code",
   "execution_count": null,
   "id": "4f603b97-81ff-4f45-a520-be0ce8ee35e8",
   "metadata": {},
   "outputs": [],
   "source": [
    "data_df = spark.createDataFrame( [\n",
    "    ('Brooke', 20),\n",
    "    ('Denny', 31),\n",
    "    ('Jules', 30),\n",
    "    ('TD', 35),\n",
    "    ('Brooke', 25)\n",
    "    ], schema=['name', 'age'])"
   ]
  },
  {
   "cell_type": "code",
   "execution_count": null,
   "id": "1681617a-31cb-4067-a4a7-6b4024a53934",
   "metadata": {},
   "outputs": [],
   "source": [
    "data_df.show()"
   ]
  },
  {
   "cell_type": "code",
   "execution_count": null,
   "id": "e85f13b5-67ee-486f-a189-3a6eb671fe65",
   "metadata": {},
   "outputs": [],
   "source": [
    "avg_df = data_df.groupBy('name').agg(avg('age'))"
   ]
  },
  {
   "cell_type": "code",
   "execution_count": null,
   "id": "4831dc1b-696b-4d42-810e-c2cb77b612e5",
   "metadata": {},
   "outputs": [],
   "source": [
    "avg_df.show()"
   ]
  },
  {
   "cell_type": "code",
   "execution_count": null,
   "id": "864ecc92-c5fe-43f3-97d7-c6fbad2996dc",
   "metadata": {},
   "outputs": [],
   "source": [
    "spark.stop()"
   ]
  }
 ],
 "metadata": {
  "kernelspec": {
   "display_name": "Python 3 (ipykernel)",
   "language": "python",
   "name": "python3"
  },
  "language_info": {
   "codemirror_mode": {
    "name": "ipython",
    "version": 3
   },
   "file_extension": ".py",
   "mimetype": "text/x-python",
   "name": "python",
   "nbconvert_exporter": "python",
   "pygments_lexer": "ipython3",
   "version": "3.9.17"
  }
 },
 "nbformat": 4,
 "nbformat_minor": 5
}
