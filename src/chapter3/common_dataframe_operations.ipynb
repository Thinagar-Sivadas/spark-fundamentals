{
 "cells": [
  {
   "cell_type": "code",
   "execution_count": null,
   "id": "a65bc810-c53d-42e8-abfb-d1bcd938bff9",
   "metadata": {},
   "outputs": [],
   "source": [
    "from pyspark.sql import SparkSession\n",
    "from pyspark.sql.types import StringType, StructField, StructType, IntegerType, BooleanType, FloatType\n",
    "from pyspark.sql.functions import col, countDistinct, to_timestamp, year, max as spark_max, avg as spark_avg, sum as spark_sum, min as spark_min"
   ]
  },
  {
   "cell_type": "code",
   "execution_count": null,
   "id": "a5dacbe7-0101-4eb4-bbb3-2862233fc7b1",
   "metadata": {},
   "outputs": [],
   "source": [
    "spark = SparkSession.builder.appName(\"common_dataframe_operations\").getOrCreate()"
   ]
  },
  {
   "cell_type": "markdown",
   "id": "67d5e68c-f5ab-43ea-b89b-c72ef098d0cd",
   "metadata": {},
   "source": [
    "# Read DataFrame"
   ]
  },
  {
   "cell_type": "code",
   "execution_count": null,
   "id": "4472a356-cbda-4fd3-be30-cb9939e1f191",
   "metadata": {},
   "outputs": [],
   "source": [
    "schema = StructType(\n",
    "        [\n",
    "            StructField(\"CallNumber\", IntegerType(), True),\n",
    "            StructField(\"UnitID\", StringType(), True),\n",
    "            StructField(\"IncidentNumber\", IntegerType(), True),\n",
    "            StructField(\"CallType\", StringType(), True),\n",
    "            StructField(\"CallDate\", StringType(), True),\n",
    "            StructField(\"WatchDate\", StringType(), True),\n",
    "            StructField(\"CallFinalDisposition\", StringType(), True),\n",
    "            StructField(\"AvailableDtTm\", StringType(), True),\n",
    "            StructField(\"Address\", StringType(), True),\n",
    "            StructField(\"City\", StringType(), True),\n",
    "            StructField(\"Zipcode\", IntegerType(), True),\n",
    "            StructField(\"Battalion\", StringType(), True),\n",
    "            StructField(\"StationArea\", StringType(), True),\n",
    "            StructField(\"Box\", StringType(), True),\n",
    "            StructField(\"OriginalPriority\", StringType(), True),\n",
    "            StructField(\"Priority\", StringType(), True),\n",
    "            StructField(\"FinalPriority\", IntegerType(), True),\n",
    "            StructField(\"ALSUnit\", BooleanType(), True),\n",
    "            StructField(\"CallTypeGroup\", StringType(), True),\n",
    "            StructField(\"NumAlarms\", IntegerType(), True),\n",
    "            StructField(\"UnitType\", StringType(), True),\n",
    "            StructField(\"UnitSequenceInCallDispatch\", IntegerType(), True),\n",
    "            StructField(\"FirePreventionDistrict\", StringType(), True),\n",
    "            StructField(\"SupervisorDistrict\", StringType(), True),\n",
    "            StructField(\"Neighborhood\", StringType(), True),\n",
    "            StructField(\"Location\", StringType(), True),\n",
    "            StructField(\"RowID\", StringType(), True),\n",
    "            StructField(\"Delay\", FloatType(), True),\n",
    "        ]\n",
    "    )\n",
    "\n",
    "fire_df = spark.read.format(\"csv\").schema(schema).option(\"header\", \"true\").load(\"/opt/bitnami/spark/custom_data/chapter3/sf-fire-calls.csv\")\n",
    "fire_df.show()"
   ]
  },
  {
   "cell_type": "markdown",
   "id": "eab4dcf9-10da-4349-b819-abf3674f1cb5",
   "metadata": {},
   "source": [
    "# Saving DataFrame"
   ]
  },
  {
   "cell_type": "code",
   "execution_count": null,
   "id": "7193fbf1-c1ab-4b36-a46a-4243e1be84ae",
   "metadata": {},
   "outputs": [],
   "source": [
    "fire_df.write.format('parquet').mode(\"overwrite\").option(\"mapreduce.fileoutputcommitter.marksuccessfuljobs\", \"false\").save(\"/opt/bitnami/spark/custom_data/chapter3/output/\")"
   ]
  },
  {
   "cell_type": "markdown",
   "id": "d53763a9-b6b1-493d-9352-266286944bc3",
   "metadata": {},
   "source": [
    "# Saving DataFrame and create table"
   ]
  },
  {
   "cell_type": "code",
   "execution_count": null,
   "id": "d9326077-d1be-4a6e-98f2-aab7e8911de5",
   "metadata": {},
   "outputs": [],
   "source": [
    "fire_df.write.format('parquet').mode('overwrite').option(\"path\", \"/opt/bitnami/spark/custom_data/chapter3/output/\").option(\"mapreduce.fileoutputcommitter.marksuccessfuljobs\", \"false\").saveAsTable(\"fire_df\")"
   ]
  },
  {
   "cell_type": "markdown",
   "id": "074daf57-8808-43e2-b404-c5433140bbd3",
   "metadata": {},
   "source": [
    "# Transformations and actions"
   ]
  },
  {
   "cell_type": "markdown",
   "id": "ab961f3f-e3a6-44f6-9193-6b66080b7cc7",
   "metadata": {},
   "source": [
    "##  Projections and filters"
   ]
  },
  {
   "cell_type": "code",
   "execution_count": null,
   "id": "a37f9fca-1bc3-414d-afff-39659c46b560",
   "metadata": {},
   "outputs": [],
   "source": [
    "few_fire_df = fire_df.select(\"IncidentNumber\", \"AvailableDtTm\", \"CallType\").where(col(\"CallType\")!=\"Medical Incident\")\n",
    "few_fire_df.show(5, truncate=False)"
   ]
  },
  {
   "cell_type": "code",
   "execution_count": null,
   "id": "2354d742-4765-427e-9a7b-bb4a52fd71a2",
   "metadata": {},
   "outputs": [],
   "source": [
    "fire_df.select(\"CallType\").where(col(\"CallType\").isNotNull()).agg(countDistinct('CallType').alias(\"DistinctCallTypes\")).show()"
   ]
  },
  {
   "cell_type": "code",
   "execution_count": null,
   "id": "9fbb67b9-7a27-4ce7-af66-b2f57a2b1e92",
   "metadata": {},
   "outputs": [],
   "source": [
    "fire_df.select(\"CallType\").where(col(\"CallType\").isNotNull()).distinct().alias(\"DistinctCallTypes\").show(10, truncate=False)"
   ]
  },
  {
   "cell_type": "markdown",
   "id": "ba6e06ba-6290-4594-85d3-b7dcddf6105a",
   "metadata": {},
   "source": [
    "## Renaming, adding and dropping columns"
   ]
  },
  {
   "cell_type": "code",
   "execution_count": null,
   "id": "9af50cc5-b707-4265-9e52-b79dc0fac49b",
   "metadata": {},
   "outputs": [],
   "source": [
    "new_fire_df = fire_df.withColumnRenamed(\"Delay\", \"ResponseDelayedinMins\")\n",
    "new_fire_df.select(\"ResponseDelayedinMins\").where(col(\"ResponseDelayedinMins\")>5).show(5, truncate=False)"
   ]
  },
  {
   "cell_type": "code",
   "execution_count": null,
   "id": "f51a80b4-b7c9-49d8-a0a7-077102c25ab9",
   "metadata": {},
   "outputs": [],
   "source": [
    "fire_ts_df = (new_fire_df.withColumn(\"IncidentDate\", to_timestamp(col(\"CallDate\"), \"MM/dd/yyyy\")).drop(\"CallDate\")\n",
    ".withColumn(\"OnWatchDate\", to_timestamp(col(\"WatchDate\"), \"MM/dd/yyyy\")).drop(\"WatchDate\")\n",
    ".withColumn(\"AvailableDtTS\", to_timestamp(col(\"AvailableDtTm\"), \"MM/dd/yyyy hh:mm:ss a\")).drop(\"AvailableDtTm\"))\n",
    "\n",
    "fire_ts_df.select(\"IncidentDate\", \"OnWatchDate\", \"AvailableDtTS\").show(5, truncate=False)"
   ]
  },
  {
   "cell_type": "code",
   "execution_count": null,
   "id": "4d2612d4-0a7a-4240-a713-096ca0935941",
   "metadata": {},
   "outputs": [],
   "source": [
    "fire_ts_df.select(year(\"IncidentDate\")).distinct().orderBy(year(\"IncidentDate\")).show()"
   ]
  },
  {
   "cell_type": "markdown",
   "id": "e7b00492-0fb3-46d9-9b99-491a02658c53",
   "metadata": {},
   "source": [
    "## Aggregations"
   ]
  },
  {
   "cell_type": "code",
   "execution_count": null,
   "id": "6dbc1e51-2afa-49aa-b849-c4947c6f4e34",
   "metadata": {},
   "outputs": [],
   "source": [
    "fire_ts_df.select(\"CallType\").where(col(\"CallType\").isNotNull()).groupBy(\"CallType\").count().orderBy(\"count\", ascending=False).show(10, truncate=False)"
   ]
  },
  {
   "cell_type": "markdown",
   "id": "9b7499b6-8937-4996-b5a6-32074bd3841c",
   "metadata": {},
   "source": [
    "## Other common DataFrame operations"
   ]
  },
  {
   "cell_type": "code",
   "execution_count": null,
   "id": "398de854-739a-471d-9048-d3dc4561436b",
   "metadata": {},
   "outputs": [],
   "source": [
    "fire_ts_df.select(spark_sum(\"NumAlarms\"), spark_avg(\"ResponseDelayedinMins\"), spark_min(\"ResponseDelayedinMins\"), spark_max(\"ResponseDelayedinMins\")).show()"
   ]
  },
  {
   "cell_type": "code",
   "execution_count": null,
   "id": "cb9ec290-6e1f-41ac-9acf-f6cbe51f663a",
   "metadata": {},
   "outputs": [],
   "source": [
    "spark.stop()"
   ]
  }
 ],
 "metadata": {
  "kernelspec": {
   "display_name": "Python 3 (ipykernel)",
   "language": "python",
   "name": "python3"
  },
  "language_info": {
   "codemirror_mode": {
    "name": "ipython",
    "version": 3
   },
   "file_extension": ".py",
   "mimetype": "text/x-python",
   "name": "python",
   "nbconvert_exporter": "python",
   "pygments_lexer": "ipython3",
   "version": "3.9.17"
  }
 },
 "nbformat": 4,
 "nbformat_minor": 5
}
