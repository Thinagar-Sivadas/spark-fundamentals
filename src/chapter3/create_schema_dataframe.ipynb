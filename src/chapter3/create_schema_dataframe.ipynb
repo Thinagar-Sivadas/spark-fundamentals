{
 "cells": [
  {
   "cell_type": "code",
   "execution_count": null,
   "id": "a65bc810-c53d-42e8-abfb-d1bcd938bff9",
   "metadata": {},
   "outputs": [],
   "source": [
    "from pyspark.sql import SparkSession\n",
    "from pyspark.sql.types import StringType, StructField, StructType, IntegerType, ArrayType, StructType"
   ]
  },
  {
   "cell_type": "code",
   "execution_count": null,
   "id": "a5dacbe7-0101-4eb4-bbb3-2862233fc7b1",
   "metadata": {},
   "outputs": [],
   "source": [
    "spark = SparkSession.builder.appName(\"create_schema_dataframe\").getOrCreate()"
   ]
  },
  {
   "cell_type": "markdown",
   "id": "c77fa9b4-00b6-4cd2-a539-8af3b5c782a0",
   "metadata": {},
   "source": [
    "# First way to define schema "
   ]
  },
  {
   "cell_type": "code",
   "execution_count": null,
   "id": "fb885406-9b61-4f9d-a7f7-15101a14fb7c",
   "metadata": {},
   "outputs": [],
   "source": [
    "schema = \"`Id` INT, `First` STRING, `Last` STRING, `Url` STRING, `Published` STRING, `Hits` INT, `Campaigns` ARRAY<STRING>\""
   ]
  },
  {
   "cell_type": "code",
   "execution_count": null,
   "id": "249059e5-2116-4cfc-8ca8-fbfcb9f57d4d",
   "metadata": {},
   "outputs": [],
   "source": [
    "blogs_df_ddl = (\n",
    "        spark.read\n",
    "        .option(\"multiline\", \"true\")\n",
    "        .format(\"json\")\n",
    "        .schema(schema=schema)\n",
    "        .load(\"/opt/bitnami/spark/custom_data/chapter3/blogs.json\")\n",
    "    )"
   ]
  },
  {
   "cell_type": "code",
   "execution_count": null,
   "id": "04fb95f1-d23a-4ff8-9af2-4edbaba4f37d",
   "metadata": {},
   "outputs": [],
   "source": [
    "blogs_df_ddl.show()"
   ]
  },
  {
   "cell_type": "code",
   "execution_count": null,
   "id": "89346c37-2c31-4b6a-9546-991052e4d4a2",
   "metadata": {},
   "outputs": [],
   "source": [
    "blogs_df_ddl.printSchema()"
   ]
  },
  {
   "cell_type": "code",
   "execution_count": null,
   "id": "f084280a-157c-4fd2-afc4-839af4e8a840",
   "metadata": {},
   "outputs": [],
   "source": [
    "blogs_df_ddl.schema"
   ]
  },
  {
   "cell_type": "markdown",
   "id": "a23a23ab-421b-4f4c-9329-aafee66588cb",
   "metadata": {},
   "source": [
    "# Second way to define schema"
   ]
  },
  {
   "cell_type": "code",
   "execution_count": null,
   "id": "4472a356-cbda-4fd3-be30-cb9939e1f191",
   "metadata": {},
   "outputs": [],
   "source": [
    "schema = StructType(\n",
    "        [\n",
    "            StructField(\"Id\", IntegerType(), True),\n",
    "            StructField(\"First\", StringType(), True),\n",
    "            StructField(\"Last\", StringType(), True),\n",
    "            StructField(\"Url\", StringType(), True),\n",
    "            StructField(\"Published\", StringType(), True),\n",
    "            StructField(\"Hits\", IntegerType(), True),\n",
    "            StructField(\"Campaigns\", ArrayType(elementType=StringType()), True),\n",
    "        ]\n",
    "    )"
   ]
  },
  {
   "cell_type": "code",
   "execution_count": null,
   "id": "c0f8adc1-7b6f-4119-be24-e66e80c39e30",
   "metadata": {},
   "outputs": [],
   "source": [
    "blogs_df_pyspark = spark.read.option(\"multiline\", \"true\").format(\"json\").schema(schema).load(\"/opt/bitnami/spark/custom_data/chapter3/blogs.json\")"
   ]
  },
  {
   "cell_type": "code",
   "execution_count": null,
   "id": "e3796505-0f17-4eec-b5fe-b514f8a86478",
   "metadata": {},
   "outputs": [],
   "source": [
    "blogs_df_pyspark.show()"
   ]
  },
  {
   "cell_type": "code",
   "execution_count": null,
   "id": "fcc986af-ede4-41cb-b3bb-9c29d04b2806",
   "metadata": {},
   "outputs": [],
   "source": [
    "blogs_df_pyspark.printSchema()"
   ]
  },
  {
   "cell_type": "code",
   "execution_count": null,
   "id": "0280bee6-1450-4640-b268-733d6363de42",
   "metadata": {},
   "outputs": [],
   "source": [
    "blogs_df_pyspark.schema"
   ]
  },
  {
   "cell_type": "code",
   "execution_count": null,
   "id": "cb9ec290-6e1f-41ac-9acf-f6cbe51f663a",
   "metadata": {},
   "outputs": [],
   "source": [
    "spark.stop()"
   ]
  }
 ],
 "metadata": {
  "kernelspec": {
   "display_name": "Python 3 (ipykernel)",
   "language": "python",
   "name": "python3"
  },
  "language_info": {
   "codemirror_mode": {
    "name": "ipython",
    "version": 3
   },
   "file_extension": ".py",
   "mimetype": "text/x-python",
   "name": "python",
   "nbconvert_exporter": "python",
   "pygments_lexer": "ipython3",
   "version": "3.9.17"
  }
 },
 "nbformat": 4,
 "nbformat_minor": 5
}
