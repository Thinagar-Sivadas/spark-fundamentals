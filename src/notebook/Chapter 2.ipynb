{
 "cells": [
  {
   "cell_type": "code",
   "execution_count": null,
   "id": "4988ef60-a3b4-4406-8d8d-d73281985879",
   "metadata": {},
   "outputs": [],
   "source": [
    "from pyspark.sql import SparkSession"
   ]
  },
  {
   "cell_type": "code",
   "execution_count": null,
   "id": "dce12b32-da80-4f8b-a3e3-7caa4cbef6fd",
   "metadata": {},
   "outputs": [],
   "source": [
    "spark = SparkSession.builder.appName(\"Chapter 2\").getOrCreate()"
   ]
  },
  {
   "cell_type": "code",
   "execution_count": null,
   "id": "21061bc8-7e7c-426c-bdb2-2308b618ec44",
   "metadata": {},
   "outputs": [],
   "source": [
    "mnm_df = spark.read.format(\"csv\").option(\"header\", \"true\").option(\"inferSchema\", \"true\").load('/opt/bitnami/spark/custom_data/mnm_dataset.csv')"
   ]
  },
  {
   "cell_type": "code",
   "execution_count": null,
   "id": "fc8f553f-8892-4af9-b919-f0dea2e5f036",
   "metadata": {},
   "outputs": [],
   "source": [
    "mnm_df.show()"
   ]
  },
  {
   "cell_type": "code",
   "execution_count": null,
   "id": "814728a2-2b19-486f-becf-869fe9bb3af1",
   "metadata": {},
   "outputs": [],
   "source": [
    "count_mnm_df = mnm_df.groupBy(\"State\", \"Color\").sum('Count').orderBy(\"sum(Count)\", ascending=False)"
   ]
  },
  {
   "cell_type": "code",
   "execution_count": null,
   "id": "3c6d07d7-67cc-426a-89a4-3ac49966f837",
   "metadata": {},
   "outputs": [],
   "source": [
    "count_mnm_df.show(n=60, truncate=False)"
   ]
  },
  {
   "cell_type": "code",
   "execution_count": null,
   "id": "10bbaa37-8bd5-4b29-8fd3-3a9d73f72dd2",
   "metadata": {},
   "outputs": [],
   "source": [
    "print(f'Total Rows {count_mnm_df.count()}')"
   ]
  },
  {
   "cell_type": "code",
   "execution_count": null,
   "id": "e11b9a70-7523-4f55-8f96-1bc16cec8c3f",
   "metadata": {},
   "outputs": [],
   "source": [
    "count_mnm_df.explain()"
   ]
  },
  {
   "cell_type": "code",
   "execution_count": null,
   "id": "71bded5e-2f34-48ef-90b8-cc537266a15f",
   "metadata": {},
   "outputs": [],
   "source": [
    "ca_count_mnm_df = mnm_df.select(\"State\", \"Color\", \"Count\").where(mnm_df.State == \"CA\").groupBy(\"State\", \"Color\").sum(\"Count\").orderBy(\"sum(Count)\", ascending=False)"
   ]
  },
  {
   "cell_type": "code",
   "execution_count": null,
   "id": "2b20fb8e-2fd1-46b6-8390-7d0b9d156744",
   "metadata": {},
   "outputs": [],
   "source": [
    "ca_count_mnm_df.show(n=10, truncate=False)"
   ]
  },
  {
   "cell_type": "code",
   "execution_count": null,
   "id": "6a92e631-455f-47c0-b211-479e42117864",
   "metadata": {},
   "outputs": [],
   "source": [
    "spark.stop()"
   ]
  }
 ],
 "metadata": {
  "kernelspec": {
   "display_name": "Python 3 (ipykernel)",
   "language": "python",
   "name": "python3"
  },
  "language_info": {
   "codemirror_mode": {
    "name": "ipython",
    "version": 3
   },
   "file_extension": ".py",
   "mimetype": "text/x-python",
   "name": "python",
   "nbconvert_exporter": "python",
   "pygments_lexer": "ipython3",
   "version": "3.9.17"
  }
 },
 "nbformat": 4,
 "nbformat_minor": 5
}
