{
 "cells": [
  {
   "cell_type": "code",
   "execution_count": null,
   "id": "203669d5-a86e-45a5-91ea-c8d3cd0f12d9",
   "metadata": {},
   "outputs": [],
   "source": [
    "from pyspark.sql import SparkSession\n",
    "import pandas as pd\n",
    "from pyspark.sql.functions import pandas_udf"
   ]
  },
  {
   "cell_type": "code",
   "execution_count": null,
   "id": "f2783289-4967-4895-a909-5429326634b0",
   "metadata": {},
   "outputs": [],
   "source": [
    "spark = SparkSession.builder.appName('user_defined_functions').getOrCreate()"
   ]
  },
  {
   "cell_type": "markdown",
   "id": "4fe341ce-2485-43f4-a737-3a915c76ea8c",
   "metadata": {},
   "source": [
    "# Create Function (Pandas UDF)"
   ]
  },
  {
   "cell_type": "code",
   "execution_count": null,
   "id": "fb2fc9e8-6b34-42fa-9392-7a9ae1fcb163",
   "metadata": {},
   "outputs": [],
   "source": [
    "@pandas_udf(\"long\")\n",
    "def pandas_plus_one(v: pd.Series) -> pd.Series:\n",
    "    return v + 1"
   ]
  },
  {
   "cell_type": "code",
   "execution_count": null,
   "id": "0269ae3c-2b80-467e-83c2-0d02ada768d5",
   "metadata": {},
   "outputs": [],
   "source": [
    "df = spark.range(3)\n",
    "df.withColumn(\"plus_one\", pandas_plus_one('id')).show()"
   ]
  },
  {
   "cell_type": "code",
   "execution_count": null,
   "id": "9d4eee2a-dfff-466c-9921-71946c1d6a95",
   "metadata": {},
   "outputs": [],
   "source": [
    "spark.stop() "
   ]
  }
 ],
 "metadata": {
  "kernelspec": {
   "display_name": "Python 3 (ipykernel)",
   "language": "python",
   "name": "python3"
  },
  "language_info": {
   "codemirror_mode": {
    "name": "ipython",
    "version": 3
   },
   "file_extension": ".py",
   "mimetype": "text/x-python",
   "name": "python",
   "nbconvert_exporter": "python",
   "pygments_lexer": "ipython3",
   "version": "3.9.17"
  }
 },
 "nbformat": 4,
 "nbformat_minor": 5
}
